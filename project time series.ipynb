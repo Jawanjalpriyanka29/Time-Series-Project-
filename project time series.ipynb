{
 "cells": [
  {
   "cell_type": "code",
   "execution_count": 87,
   "id": "9371949a",
   "metadata": {},
   "outputs": [],
   "source": [
    "import pandas as pd\n",
    "import matplotlib.pyplot as plt\n",
    "import numpy as np\n"
   ]
  },
  {
   "cell_type": "code",
   "execution_count": 88,
   "id": "19271c89",
   "metadata": {},
   "outputs": [],
   "source": [
    "df=pd.read_csv(\"a10.csv\")"
   ]
  },
  {
   "cell_type": "code",
   "execution_count": 89,
   "id": "4152a0c3",
   "metadata": {},
   "outputs": [
    {
     "data": {
      "text/html": [
       "<div>\n",
       "<style scoped>\n",
       "    .dataframe tbody tr th:only-of-type {\n",
       "        vertical-align: middle;\n",
       "    }\n",
       "\n",
       "    .dataframe tbody tr th {\n",
       "        vertical-align: top;\n",
       "    }\n",
       "\n",
       "    .dataframe thead th {\n",
       "        text-align: right;\n",
       "    }\n",
       "</style>\n",
       "<table border=\"1\" class=\"dataframe\">\n",
       "  <thead>\n",
       "    <tr style=\"text-align: right;\">\n",
       "      <th></th>\n",
       "      <th>date</th>\n",
       "      <th>value</th>\n",
       "    </tr>\n",
       "  </thead>\n",
       "  <tbody>\n",
       "    <tr>\n",
       "      <th>0</th>\n",
       "      <td>1991-07-01</td>\n",
       "      <td>3.526591</td>\n",
       "    </tr>\n",
       "    <tr>\n",
       "      <th>1</th>\n",
       "      <td>1991-08-01</td>\n",
       "      <td>3.180891</td>\n",
       "    </tr>\n",
       "    <tr>\n",
       "      <th>2</th>\n",
       "      <td>1991-09-01</td>\n",
       "      <td>3.252221</td>\n",
       "    </tr>\n",
       "    <tr>\n",
       "      <th>3</th>\n",
       "      <td>1991-10-01</td>\n",
       "      <td>3.611003</td>\n",
       "    </tr>\n",
       "    <tr>\n",
       "      <th>4</th>\n",
       "      <td>1991-11-01</td>\n",
       "      <td>3.565869</td>\n",
       "    </tr>\n",
       "  </tbody>\n",
       "</table>\n",
       "</div>"
      ],
      "text/plain": [
       "         date     value\n",
       "0  1991-07-01  3.526591\n",
       "1  1991-08-01  3.180891\n",
       "2  1991-09-01  3.252221\n",
       "3  1991-10-01  3.611003\n",
       "4  1991-11-01  3.565869"
      ]
     },
     "execution_count": 89,
     "metadata": {},
     "output_type": "execute_result"
    }
   ],
   "source": [
    "df.head()"
   ]
  },
  {
   "cell_type": "code",
   "execution_count": 90,
   "id": "183c8ed4",
   "metadata": {},
   "outputs": [
    {
     "data": {
      "text/plain": [
       "204"
      ]
     },
     "execution_count": 90,
     "metadata": {},
     "output_type": "execute_result"
    }
   ],
   "source": [
    "len(df)"
   ]
  },
  {
   "cell_type": "code",
   "execution_count": 91,
   "id": "15e48244",
   "metadata": {},
   "outputs": [
    {
     "data": {
      "text/plain": [
       "date      object\n",
       "value    float64\n",
       "dtype: object"
      ]
     },
     "execution_count": 91,
     "metadata": {},
     "output_type": "execute_result"
    }
   ],
   "source": [
    "df=df[['date','value']]\n",
    "df.dtypes"
   ]
  },
  {
   "cell_type": "code",
   "execution_count": 92,
   "id": "1b4d655d",
   "metadata": {},
   "outputs": [
    {
     "data": {
      "text/html": [
       "<div>\n",
       "<style scoped>\n",
       "    .dataframe tbody tr th:only-of-type {\n",
       "        vertical-align: middle;\n",
       "    }\n",
       "\n",
       "    .dataframe tbody tr th {\n",
       "        vertical-align: top;\n",
       "    }\n",
       "\n",
       "    .dataframe thead th {\n",
       "        text-align: right;\n",
       "    }\n",
       "</style>\n",
       "<table border=\"1\" class=\"dataframe\">\n",
       "  <thead>\n",
       "    <tr style=\"text-align: right;\">\n",
       "      <th></th>\n",
       "      <th>value</th>\n",
       "    </tr>\n",
       "    <tr>\n",
       "      <th>date</th>\n",
       "      <th></th>\n",
       "    </tr>\n",
       "  </thead>\n",
       "  <tbody>\n",
       "    <tr>\n",
       "      <th>1991-07-01</th>\n",
       "      <td>3.526591</td>\n",
       "    </tr>\n",
       "    <tr>\n",
       "      <th>1991-08-01</th>\n",
       "      <td>3.180891</td>\n",
       "    </tr>\n",
       "    <tr>\n",
       "      <th>1991-09-01</th>\n",
       "      <td>3.252221</td>\n",
       "    </tr>\n",
       "    <tr>\n",
       "      <th>1991-10-01</th>\n",
       "      <td>3.611003</td>\n",
       "    </tr>\n",
       "    <tr>\n",
       "      <th>1991-11-01</th>\n",
       "      <td>3.565869</td>\n",
       "    </tr>\n",
       "  </tbody>\n",
       "</table>\n",
       "</div>"
      ],
      "text/plain": [
       "               value\n",
       "date                \n",
       "1991-07-01  3.526591\n",
       "1991-08-01  3.180891\n",
       "1991-09-01  3.252221\n",
       "1991-10-01  3.611003\n",
       "1991-11-01  3.565869"
      ]
     },
     "execution_count": 92,
     "metadata": {},
     "output_type": "execute_result"
    }
   ],
   "source": [
    "df['date']=df['date'].astype('datetime64')\n",
    "df.set_index('date',inplace=True)\n",
    "df.head()"
   ]
  },
  {
   "cell_type": "code",
   "execution_count": 93,
   "id": "af037331",
   "metadata": {},
   "outputs": [
    {
     "data": {
      "text/plain": [
       "<bound method NDFrame._add_numeric_operations.<locals>.sum of             value\n",
       "date             \n",
       "1991-07-01  False\n",
       "1991-08-01  False\n",
       "1991-09-01  False\n",
       "1991-10-01  False\n",
       "1991-11-01  False\n",
       "...           ...\n",
       "2008-02-01  False\n",
       "2008-03-01  False\n",
       "2008-04-01  False\n",
       "2008-05-01  False\n",
       "2008-06-01  False\n",
       "\n",
       "[204 rows x 1 columns]>"
      ]
     },
     "execution_count": 93,
     "metadata": {},
     "output_type": "execute_result"
    }
   ],
   "source": [
    "df.isna().sum"
   ]
  },
  {
   "cell_type": "code",
   "execution_count": 94,
   "id": "64b8e865",
   "metadata": {},
   "outputs": [
    {
     "data": {
      "text/plain": [
       "<AxesSubplot:xlabel='date'>"
      ]
     },
     "execution_count": 94,
     "metadata": {},
     "output_type": "execute_result"
    },
    {
     "data": {
      "image/png": "[encoded data removed]",
      "text/plain": [
       "<Figure size 432x288 with 1 Axes>"
      ]
     },
     "metadata": {
      "needs_background": "light"
     },
     "output_type": "display_data"
    }
   ],
   "source": [
    "df.plot()"
   ]
  },
  {
   "cell_type": "code",
   "execution_count": 95,
   "id": "dc353e08",
   "metadata": {},
   "outputs": [],
   "source": [
    "from statsmodels.tsa.seasonal import seasonal_decompose"
   ]
  },
  {
   "cell_type": "code",
   "execution_count": 96,
   "id": "d580baf8",
   "metadata": {},
   "outputs": [
    {
     "data": {
      "text/plain": [
       "<statsmodels.tsa.seasonal.DecomposeResult at 0xbd91befee0>"
      ]
     },
     "execution_count": 96,
     "metadata": {},
     "output_type": "execute_result"
    }
   ],
   "source": [
    "result=seasonal_decompose(df,model='additive')\n",
    "result"
   ]
  },
  {
   "cell_type": "code",
   "execution_count": 97,
   "id": "ef8056f0",
   "metadata": {},
   "outputs": [
    {
     "data": {
      "text/plain": [
       "date\n",
       "1991-07-01   NaN\n",
       "1991-08-01   NaN\n",
       "1991-09-01   NaN\n",
       "1991-10-01   NaN\n",
       "1991-11-01   NaN\n",
       "Name: trend, dtype: float64"
      ]
     },
     "execution_count": 97,
     "metadata": {},
     "output_type": "execute_result"
    }
   ],
   "source": [
    "result.trend.head()"
   ]
  },
  {
   "cell_type": "code",
   "execution_count": 98,
   "id": "9ce436e0",
   "metadata": {},
   "outputs": [
    {
     "data": {
      "text/plain": [
       "date\n",
       "1991-07-01   -0.227809\n",
       "1991-08-01   -0.023116\n",
       "1991-09-01   -0.149022\n",
       "1991-10-01    0.569161\n",
       "1991-11-01    0.966836\n",
       "Name: seasonal, dtype: float64"
      ]
     },
     "execution_count": 98,
     "metadata": {},
     "output_type": "execute_result"
    }
   ],
   "source": [
    "result.seasonal.head()"
   ]
  },
  {
   "cell_type": "code",
   "execution_count": 99,
   "id": "86abb9ee",
   "metadata": {},
   "outputs": [
    {
     "data": {
      "text/plain": [
       "date\n",
       "1991-07-01   NaN\n",
       "1991-08-01   NaN\n",
       "1991-09-01   NaN\n",
       "1991-10-01   NaN\n",
       "1991-11-01   NaN\n",
       "Name: resid, dtype: float64"
      ]
     },
     "execution_count": 99,
     "metadata": {},
     "output_type": "execute_result"
    }
   ],
   "source": [
    "result.resid.head()"
   ]
  },
  {
   "cell_type": "code",
   "execution_count": 100,
   "id": "822b496b",
   "metadata": {},
   "outputs": [
    {
     "data": {
      "image/png": "[encoded data removed]",
      "text/plain": [
       "<Figure size 432x288 with 4 Axes>"
      ]
     },
     "metadata": {
      "needs_background": "light"
     },
     "output_type": "display_data"
    }
   ],
   "source": [
    "result.plot()\n",
    "plt.show()"
   ]
  },
  {
   "cell_type": "code",
   "execution_count": 101,
   "id": "c7dc6b56",
   "metadata": {},
   "outputs": [],
   "source": [
    "dataset = df.values\n",
    "dataset = dataset.astype('float32')"
   ]
  },
  {
   "cell_type": "code",
   "execution_count": 102,
   "id": "6cc58fa7",
   "metadata": {},
   "outputs": [
    {
     "data": {
      "text/plain": [
       "array([[0.02651951],\n",
       "       [0.01364468],\n",
       "       [0.01630121],\n",
       "       [0.02966324],\n",
       "       [0.02798233],\n",
       "       [0.0555607 ],\n",
       "       [0.08468322],\n",
       "       [0.        ],\n",
       "       [0.00637936],\n",
       "       [0.01453438],\n",
       "       [0.01165915],\n",
       "       [0.01698283],\n",
       "       [0.03438742],\n",
       "       [0.02771818],\n",
       "       [0.03585295],\n",
       "       [0.04133839],\n",
       "       [0.05854607],\n",
       "       [0.11158048],\n",
       "       [0.12578928],\n",
       "       [0.02369896],\n",
       "       [0.03567066],\n",
       "       [0.03425529],\n",
       "       [0.04062737],\n",
       "       [0.04600107],\n",
       "       [0.05590313],\n",
       "       [0.06508789],\n",
       "       [0.06681886],\n",
       "       [0.06902323],\n",
       "       [0.08488829],\n",
       "       [0.16258124],\n",
       "       [0.14587826],\n",
       "       [0.03823932],\n",
       "       [0.05882705],\n",
       "       [0.04695649],\n",
       "       [0.06428572],\n",
       "       [0.0681951 ],\n",
       "       [0.07217974],\n",
       "       [0.09445087],\n",
       "       [0.08900785],\n",
       "       [0.09262771],\n",
       "       [0.1102097 ],\n",
       "       [0.12625581],\n",
       "       [0.14654902],\n",
       "       [0.05219754],\n",
       "       [0.079507  ],\n",
       "       [0.07480306],\n",
       "       [0.08864655],\n",
       "       [0.08775397],\n",
       "       [0.09095515],\n",
       "       [0.11324627],\n",
       "       [0.09966948],\n",
       "       [0.12293   ],\n",
       "       [0.12193114],\n",
       "       [0.1713942 ],\n",
       "       [0.20539147],\n",
       "       [0.08399277],\n",
       "       [0.0911717 ],\n",
       "       [0.10363203],\n",
       "       [0.12274388],\n",
       "       [0.10705965],\n",
       "       [0.13676777],\n",
       "       [0.12983021],\n",
       "       [0.13604626],\n",
       "       [0.14949661],\n",
       "       [0.14280966],\n",
       "       [0.21572578],\n",
       "       [0.2126545 ],\n",
       "       [0.09174382],\n",
       "       [0.10799602],\n",
       "       [0.1266258 ],\n",
       "       [0.13397756],\n",
       "       [0.14350376],\n",
       "       [0.15777203],\n",
       "       [0.1448893 ],\n",
       "       [0.16522643],\n",
       "       [0.1864081 ],\n",
       "       [0.17070532],\n",
       "       [0.2711913 ],\n",
       "       [0.2228606 ],\n",
       "       [0.11559195],\n",
       "       [0.13854218],\n",
       "       [0.14380243],\n",
       "       [0.15826994],\n",
       "       [0.17015713],\n",
       "       [0.1861758 ],\n",
       "       [0.17196381],\n",
       "       [0.20336786],\n",
       "       [0.20282131],\n",
       "       [0.21532425],\n",
       "       [0.28842375],\n",
       "       [0.28218472],\n",
       "       [0.13433528],\n",
       "       [0.19545385],\n",
       "       [0.16696757],\n",
       "       [0.1907723 ],\n",
       "       [0.19927883],\n",
       "       [0.21984047],\n",
       "       [0.2330074 ],\n",
       "       [0.23696071],\n",
       "       [0.23974547],\n",
       "       [0.2651171 ],\n",
       "       [0.32469955],\n",
       "       [0.36114118],\n",
       "       [0.17290628],\n",
       "       [0.21513933],\n",
       "       [0.21077481],\n",
       "       [0.24477014],\n",
       "       [0.25123534],\n",
       "       [0.2986788 ],\n",
       "       [0.2915824 ],\n",
       "       [0.264187  ],\n",
       "       [0.331294  ],\n",
       "       [0.31751826],\n",
       "       [0.34504   ],\n",
       "       [0.43510976],\n",
       "       [0.19495684],\n",
       "       [0.27926025],\n",
       "       [0.25842166],\n",
       "       [0.2992779 ],\n",
       "       [0.26618165],\n",
       "       [0.32137105],\n",
       "       [0.329402  ],\n",
       "       [0.2917056 ],\n",
       "       [0.3663802 ],\n",
       "       [0.40445468],\n",
       "       [0.37805957],\n",
       "       [0.502247  ],\n",
       "       [0.23235646],\n",
       "       [0.26769853],\n",
       "       [0.29698256],\n",
       "       [0.34606686],\n",
       "       [0.30314067],\n",
       "       [0.3735469 ],\n",
       "       [0.3494111 ],\n",
       "       [0.37392607],\n",
       "       [0.39952144],\n",
       "       [0.39004818],\n",
       "       [0.458846  ],\n",
       "       [0.5219141 ],\n",
       "       [0.26016676],\n",
       "       [0.29803443],\n",
       "       [0.29197237],\n",
       "       [0.3611732 ],\n",
       "       [0.3480968 ],\n",
       "       [0.3792629 ],\n",
       "       [0.3613577 ],\n",
       "       [0.38934124],\n",
       "       [0.44390056],\n",
       "       [0.4042653 ],\n",
       "       [0.50983316],\n",
       "       [0.5656899 ],\n",
       "       [0.33978495],\n",
       "       [0.37925747],\n",
       "       [0.37496504],\n",
       "       [0.41447225],\n",
       "       [0.41618636],\n",
       "       [0.46645018],\n",
       "       [0.46762952],\n",
       "       [0.49635276],\n",
       "       [0.51660347],\n",
       "       [0.5520204 ],\n",
       "       [0.5979258 ],\n",
       "       [0.66903704],\n",
       "       [0.34784886],\n",
       "       [0.3943219 ],\n",
       "       [0.43368182],\n",
       "       [0.44619027],\n",
       "       [0.48008665],\n",
       "       [0.48471603],\n",
       "       [0.54896545],\n",
       "       [0.56930614],\n",
       "       [0.54680413],\n",
       "       [0.6157256 ],\n",
       "       [0.64120054],\n",
       "       [0.7698895 ],\n",
       "       [0.36209178],\n",
       "       [0.47121432],\n",
       "       [0.42527607],\n",
       "       [0.55747014],\n",
       "       [0.5019241 ],\n",
       "       [0.5275725 ],\n",
       "       [0.5883492 ],\n",
       "       [0.51427907],\n",
       "       [0.6933014 ],\n",
       "       [0.7731975 ],\n",
       "       [0.76421034],\n",
       "       [0.93940705],\n",
       "       [0.51951265],\n",
       "       [0.63231677],\n",
       "       [0.5069781 ],\n",
       "       [0.67730564],\n",
       "       [0.66539764],\n",
       "       [0.70837164],\n",
       "       [0.786407  ],\n",
       "       [0.7491699 ],\n",
       "       [0.7615711 ],\n",
       "       [0.835561  ],\n",
       "       [0.8562702 ],\n",
       "       [1.        ],\n",
       "       [0.70164543],\n",
       "       [0.5754169 ],\n",
       "       [0.7557738 ],\n",
       "       [0.74850523],\n",
       "       [0.6188716 ]], dtype=float32)"
      ]
     },
     "execution_count": 102,
     "metadata": {},
     "output_type": "execute_result"
    }
   ],
   "source": [
    "from sklearn.preprocessing import MinMaxScaler\n",
    "scaler = MinMaxScaler(feature_range=(0,1))\n",
    "dataset = scaler.fit_transform(dataset)\n",
    "dataset"
   ]
  },
  {
   "cell_type": "code",
   "execution_count": 103,
   "id": "f9857aa5",
   "metadata": {},
   "outputs": [],
   "source": [
    "train_size = int(len(dataset)*0.70)\n",
    "train = dataset[:train_size, :]\n",
    "test = dataset[train_size:, :]"
   ]
  },
  {
   "cell_type": "code",
   "execution_count": 104,
   "id": "8b192be6",
   "metadata": {},
   "outputs": [],
   "source": [
    "def make_dataset(dataset, lookback=1):\n",
    "    datax, datay = [], []\n",
    "    for i in range(len(dataset)-lookback-1):\n",
    "        x = dataset[i:(i+lookback), 0]\n",
    "        datax.append(x)\n",
    "        datay.append(dataset[i+lookback, 0])\n",
    "    datax = np.array(datax)\n",
    "    datay = np.array(datay)\n",
    "    return datax, datay"
   ]
  },
  {
   "cell_type": "code",
   "execution_count": 105,
   "id": "ab177e87",
   "metadata": {},
   "outputs": [],
   "source": [
    "lookback = 1\n",
    "trainx, trainy = make_dataset(train, lookback)\n",
    "testx, testy = make_dataset(test, lookback)\n",
    "trainx = np.reshape(trainx, (trainx.shape[0], 1,\n",
    "                            trainx.shape[1]))\n",
    "testx = np.reshape(testx, (testx.shape[0], 1, \n",
    "                          testx.shape[1]))"
   ]
  },
  {
   "cell_type": "code",
   "execution_count": 106,
   "id": "38263b75",
   "metadata": {},
   "outputs": [],
   "source": [
    "import tensorflow as tf\n",
    "from tensorflow.keras.models import Sequential\n",
    "from tensorflow.keras.layers import Dense\n",
    "from tensorflow.keras.layers import LSTM\n",
    "tf.random.set_seed(7)"
   ]
  },
  {
   "cell_type": "code",
   "execution_count": 107,
   "id": "4d7ccc03",
   "metadata": {},
   "outputs": [
    {
     "name": "stdout",
     "output_type": "stream",
     "text": [
      "Epoch 1/10\n",
      "140/140 [==============================] - 3s 3ms/step - loss: 0.0245\n",
      "Epoch 2/10\n",
      "140/140 [==============================] - 0s 3ms/step - loss: 0.0122\n",
      "Epoch 3/10\n",
      "140/140 [==============================] - 0s 3ms/step - loss: 0.0111\n",
      "Epoch 4/10\n",
      "140/140 [==============================] - 0s 3ms/step - loss: 0.0102\n",
      "Epoch 5/10\n",
      "140/140 [==============================] - 0s 3ms/step - loss: 0.0094\n",
      "Epoch 6/10\n",
      "140/140 [==============================] - 0s 3ms/step - loss: 0.0087\n",
      "Epoch 7/10\n",
      "140/140 [==============================] - 0s 3ms/step - loss: 0.0077\n",
      "Epoch 8/10\n",
      "140/140 [==============================] - 0s 3ms/step - loss: 0.0069\n",
      "Epoch 9/10\n",
      "140/140 [==============================] - 0s 3ms/step - loss: 0.0062\n",
      "Epoch 10/10\n",
      "140/140 [==============================] - 0s 3ms/step - loss: 0.0056\n"
     ]
    },
    {
     "data": {
      "text/plain": [
       "<keras.callbacks.History at 0xbd93159ca0>"
      ]
     },
     "execution_count": 107,
     "metadata": {},
     "output_type": "execute_result"
    }
   ],
   "source": [
    "model = Sequential()\n",
    "model.add(LSTM(4, input_shape=(1, lookback)))\n",
    "model.add(Dense(1))\n",
    "model.compile(loss='mean_squared_error', \n",
    "             optimizer='adam')\n",
    "model.fit(trainx, trainy, epochs=10, \n",
    "          batch_size=1)"
   ]
  },
  {
   "cell_type": "code",
   "execution_count": 108,
   "id": "7b78c2d6",
   "metadata": {},
   "outputs": [],
   "source": [
    "trainpredict = model.predict(trainx)\n",
    "testpredict = model.predict(testx)"
   ]
  },
  {
   "cell_type": "code",
   "execution_count": 109,
   "id": "4445fa4c",
   "metadata": {},
   "outputs": [],
   "source": [
    "trainpredict = scaler.inverse_transform(trainpredict)\n",
    "trainy=scaler.inverse_transform([trainy])\n",
    "testpredict=scaler.inverse_transform(testpredict)\n",
    "testy=scaler.inverse_transform([testy])"
   ]
  },
  {
   "cell_type": "code",
   "execution_count": 110,
   "id": "786e40d1",
   "metadata": {},
   "outputs": [
    {
     "data": {
      "text/plain": [
       "3.6815236226140176"
      ]
     },
     "execution_count": 110,
     "metadata": {},
     "output_type": "execute_result"
    }
   ],
   "source": [
    "from sklearn.metrics import mean_squared_error\n",
    "mean_squared_error(trainy [0], trainpredict[:, 0])"
   ]
  },
  {
   "cell_type": "code",
   "execution_count": 111,
   "id": "7623df46",
   "metadata": {},
   "outputs": [
    {
     "data": {
      "text/plain": [
       "36.97278166270176"
      ]
     },
     "execution_count": 111,
     "metadata": {},
     "output_type": "execute_result"
    }
   ],
   "source": [
    "mean_squared_error(testy [0], testpredict[:, 0])"
   ]
  },
  {
   "cell_type": "code",
   "execution_count": 112,
   "id": "51dbb0f9",
   "metadata": {},
   "outputs": [],
   "source": [
    "trainpredictplot = np.empty_like(dataset)\n",
    "trainpredictplot[:,:]= np.nan\n",
    "trainpredictplot[lookback:len(trainpredict)+lookback,:] = trainpredict"
   ]
  },
  {
   "cell_type": "code",
   "execution_count": 113,
   "id": "efe993b3",
   "metadata": {},
   "outputs": [],
   "source": [
    "testpredictplot = np.empty_like(dataset)\n",
    "testpredictplot[:,:] = np.nan\n",
    "testpredictplot[((2*lookback)+len(trainpredict))+1:len(dataset)-1,:]=testpredict"
   ]
  },
  {
   "cell_type": "code",
   "execution_count": 114,
   "id": "2806a8a3",
   "metadata": {},
   "outputs": [
    {
     "data": {
      "image/png": "[encoded data removed]",
      "text/plain": [
       "<Figure size 432x288 with 1 Axes>"
      ]
     },
     "metadata": {
      "needs_background": "light"
     },
     "output_type": "display_data"
    }
   ],
   "source": [
    "dataset=scaler.inverse_transform(dataset)\n",
    "plt.plot(dataset)\n",
    "plt.plot(trainpredictplot)\n",
    "plt.plot(testpredictplot)\n",
    "plt.show()"
   ]
  },
  {
   "cell_type": "code",
   "execution_count": null,
   "id": "f901f692",
   "metadata": {},
   "outputs": [],
   "source": [
    "#blueline actual data\n",
    "#orangeline trainpredict\n",
    "#greenline testpredict"
   ]
  },
  {
   "cell_type": "code",
   "execution_count": null,
   "id": "aa63885d",
   "metadata": {},
   "outputs": [],
   "source": []
  }
 ],
 "metadata": {
  "kernelspec": {
   "display_name": "Python 3 (ipykernel)",
   "language": "python",
   "name": "python3"
  },
  "language_info": {
   "codemirror_mode": {
    "name": "ipython",
    "version": 3
   },
   "file_extension": ".py",
   "mimetype": "text/x-python",
   "name": "python",
   "nbconvert_exporter": "python",
   "pygments_lexer": "ipython3",
   "version": "3.9.12"
  }
 },
 "nbformat": 4,
 "nbformat_minor": 5
}
